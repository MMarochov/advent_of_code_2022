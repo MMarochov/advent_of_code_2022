{
 "cells": [
  {
   "cell_type": "markdown",
   "metadata": {},
   "source": [
    "Day 3:\n",
    "\n",
    "Notes\n",
    "\n",
    "- rucksack 2 compartments\n",
    "- half line in comp 1, second half in comp 2\n",
    "- find what the shared letter in both comartments is\n",
    "- priority: a-z = 1-26, A-Z = 27-52\n",
    "\n",
    "Task:\n",
    "\n",
    "- find shared letter\n",
    "- find priority of letter\n",
    "- find sum of all priorities\n",
    "\n",
    "wot do:\n",
    "- read line\n",
    "- split into 2 strings\n",
    "- find common value in string\n",
    "- map letter to number \n",
    "- sum, baby"
   ]
  },
  {
   "cell_type": "code",
   "execution_count": 83,
   "metadata": {},
   "outputs": [],
   "source": [
    "input = open('input_data/day03.txt', 'r').read()\n",
    "\n",
    "# Split into list of strings\n",
    "input_lines = input.splitlines()"
   ]
  },
  {
   "cell_type": "code",
   "execution_count": 78,
   "metadata": {},
   "outputs": [
    {
     "name": "stdout",
     "output_type": "stream",
     "text": [
      "157\n"
     ]
    }
   ],
   "source": [
    "priority_sum = 0\n",
    "for line in input_lines:\n",
    "    length = len(line)\n",
    "    comp1 = line[:length//2]\n",
    "    comp2 = line[length//2:]\n",
    "    unique = ''.join(set(comp1).intersection(comp2))\n",
    "    if unique.islower():\n",
    "        priority = [ord(x) - 96 for x in unique]\n",
    "        priority_sum += priority[0]\n",
    "    if unique.isupper():\n",
    "        priority = [ord(x) - 38 for x in unique]\n",
    "        priority_sum += priority[0]\n",
    "print(priority_sum)\n"
   ]
  },
  {
   "cell_type": "markdown",
   "metadata": {},
   "source": [
    "Part 2!\n",
    "\n",
    "- group into 3s, don't need to split into compartments\n",
    "- find common value in each string for group\n",
    "- summmm\n"
   ]
  },
  {
   "cell_type": "code",
   "execution_count": 65,
   "metadata": {},
   "outputs": [],
   "source": [
    "import numpy as np"
   ]
  },
  {
   "cell_type": "code",
   "execution_count": 84,
   "metadata": {},
   "outputs": [
    {
     "data": {
      "text/plain": [
       "300"
      ]
     },
     "execution_count": 84,
     "metadata": {},
     "output_type": "execute_result"
    }
   ],
   "source": [
    "len(input_lines)"
   ]
  },
  {
   "cell_type": "code",
   "execution_count": 85,
   "metadata": {},
   "outputs": [],
   "source": [
    "groups = np.array_split(input_lines, 100) # /3 - for real datase use 100\n",
    "# but make it list of lists?\n",
    "groups = [l.tolist() for l in groups]"
   ]
  },
  {
   "cell_type": "code",
   "execution_count": 88,
   "metadata": {},
   "outputs": [
    {
     "name": "stdout",
     "output_type": "stream",
     "text": [
      "2363\n"
     ]
    }
   ],
   "source": [
    "priority_sum = 0\n",
    "for group in groups:\n",
    "    unique = (set.intersection(*map(set,group)))\n",
    "#     print(unique)\n",
    "\n",
    "    # need to convert to string\n",
    "    if str(unique).islower():\n",
    "            priority = [ord(x) - 96 for x in unique]\n",
    "            priority_sum += priority[0]\n",
    "    if str(unique).isupper():\n",
    "        priority = [ord(x) - 38 for x in unique]\n",
    "        priority_sum += priority[0]\n",
    "print(priority_sum)"
   ]
  }
 ],
 "metadata": {
  "interpreter": {
   "hash": "3cb9049af9d8da8d407b997f9c1ce41ad117094f700b103469b57acf165c1aa5"
  },
  "kernelspec": {
   "display_name": "Python 3.9.7 ('base')",
   "language": "python",
   "name": "python3"
  },
  "language_info": {
   "codemirror_mode": {
    "name": "ipython",
    "version": 3
   },
   "file_extension": ".py",
   "mimetype": "text/x-python",
   "name": "python",
   "nbconvert_exporter": "python",
   "pygments_lexer": "ipython3",
   "version": "3.9.7"
  },
  "orig_nbformat": 4
 },
 "nbformat": 4,
 "nbformat_minor": 2
}
