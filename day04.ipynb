{
 "cells": [
  {
   "cell_type": "markdown",
   "metadata": {},
   "source": [
    "Day 4 (would like to refactor some more)\n",
    "\n",
    "Notes:\n",
    "\n",
    "In how many pairs does 1 section assignment fully contain the other?\n",
    "\n",
    "- find range numbers\n",
    "- check if range1 contain nums in range2 and vice versa"
   ]
  },
  {
   "cell_type": "code",
   "execution_count": 1,
   "metadata": {},
   "outputs": [],
   "source": [
    "input = open('input_data/day04.txt', 'r').read()\n",
    "input_lines = input.splitlines()"
   ]
  },
  {
   "cell_type": "code",
   "execution_count": 2,
   "metadata": {},
   "outputs": [],
   "source": [
    "def range_in_range(range1, range2):\n",
    "     while range1[0] in range2:\n",
    "         index = range2.index(range1[0])\n",
    "         if range1 == range2[index:index + len(range1)]:\n",
    "             return 1\n",
    "         else:\n",
    "             range2 = range2[index + 1:]\n",
    "     else:\n",
    "         return 0"
   ]
  },
  {
   "cell_type": "code",
   "execution_count": 3,
   "metadata": {},
   "outputs": [
    {
     "name": "stdout",
     "output_type": "stream",
     "text": [
      "588\n"
     ]
    }
   ],
   "source": [
    "fully_assigned = 0\n",
    "for pair in input_lines:\n",
    "    pairs = pair.split(',')\n",
    "    p1 = pairs[0]\n",
    "    p2 = pairs[1]\n",
    "\n",
    "    start, stop = [int(j) for j in p1.split('-')]\n",
    "    p1range = list(range(start, stop+1))\n",
    "\n",
    "    start, stop = [int(j) for j in p2.split('-')]\n",
    "    p2range = list(range(start, stop+1))\n",
    "    \n",
    "    check1 = range_in_range(p1range, p2range)\n",
    "    check2 = range_in_range(p2range, p1range)\n",
    "     \n",
    "    if check1 > 0:\n",
    "        fully_assigned += 1\n",
    "    elif check2 > 0:\n",
    "        fully_assigned += 1\n",
    "\n",
    "print(fully_assigned)"
   ]
  },
  {
   "cell_type": "code",
   "execution_count": 4,
   "metadata": {},
   "outputs": [],
   "source": [
    "def lists_overlap(a, b):\n",
    "        for i in a:\n",
    "           if i in b:\n",
    "                return True\n",
    "        return False"
   ]
  },
  {
   "cell_type": "code",
   "execution_count": 5,
   "metadata": {},
   "outputs": [
    {
     "name": "stdout",
     "output_type": "stream",
     "text": [
      "911\n"
     ]
    }
   ],
   "source": [
    "fully_assigned = 0\n",
    "for pair in input_lines:\n",
    "    pairs = pair.split(',')\n",
    "    p1 = pairs[0]\n",
    "    p2 = pairs[1]\n",
    "\n",
    "    start, stop = [int(j) for j in p1.split('-')]\n",
    "    p1range = list(range(start, stop+1))\n",
    "\n",
    "    start, stop = [int(j) for j in p2.split('-')]\n",
    "    p2range = list(range(start, stop+1))\n",
    "    \n",
    "    if lists_overlap(p1range, p2range):\n",
    "        fully_assigned += 1\n",
    "\n",
    "print(fully_assigned)"
   ]
  }
 ],
 "metadata": {
  "interpreter": {
   "hash": "3cb9049af9d8da8d407b997f9c1ce41ad117094f700b103469b57acf165c1aa5"
  },
  "kernelspec": {
   "display_name": "Python 3.9.7 ('base')",
   "language": "python",
   "name": "python3"
  },
  "language_info": {
   "codemirror_mode": {
    "name": "ipython",
    "version": 3
   },
   "file_extension": ".py",
   "mimetype": "text/x-python",
   "name": "python",
   "nbconvert_exporter": "python",
   "pygments_lexer": "ipython3",
   "version": "3.9.7"
  },
  "orig_nbformat": 4
 },
 "nbformat": 4,
 "nbformat_minor": 2
}
