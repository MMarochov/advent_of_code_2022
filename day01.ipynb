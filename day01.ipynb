{
 "cells": [
  {
   "cell_type": "code",
   "execution_count": 7,
   "metadata": {},
   "outputs": [
    {
     "data": {
      "text/plain": [
       "71300"
      ]
     },
     "execution_count": 7,
     "metadata": {},
     "output_type": "execute_result"
    }
   ],
   "source": [
    "with open('input_data/day01.txt') as elf_calories:\n",
    "    elves = []\n",
    "    elf_total_calories = 0\n",
    "    for line in elf_calories:\n",
    "        try:\n",
    "            elf_total_calories += int(line)\n",
    "        except ValueError:\n",
    "            elves.append(elf_total_calories)\n",
    "            elf_total_calories = 0\n",
    "max(elves)"
   ]
  }
 ],
 "metadata": {
  "interpreter": {
   "hash": "3cb9049af9d8da8d407b997f9c1ce41ad117094f700b103469b57acf165c1aa5"
  },
  "kernelspec": {
   "display_name": "Python 3.9.7 ('base')",
   "language": "python",
   "name": "python3"
  },
  "language_info": {
   "codemirror_mode": {
    "name": "ipython",
    "version": 3
   },
   "file_extension": ".py",
   "mimetype": "text/x-python",
   "name": "python",
   "nbconvert_exporter": "python",
   "pygments_lexer": "ipython3",
   "version": "3.9.7"
  },
  "orig_nbformat": 4
 },
 "nbformat": 4,
 "nbformat_minor": 2
}
